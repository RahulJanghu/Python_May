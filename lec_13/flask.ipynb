{
 "cells": [
  {
   "cell_type": "markdown",
   "metadata": {},
   "source": [
    "## About flask microframework\n",
    "- Structure of URL\n",
    "- Demo Web App\n",
    "- Query Params"
   ]
  },
  {
   "cell_type": "code",
   "execution_count": null,
   "metadata": {},
   "outputs": [],
   "source": [
    "## Flask, Django"
   ]
  },
  {
   "cell_type": "code",
   "execution_count": null,
   "metadata": {},
   "outputs": [],
   "source": [
    "## Building a flask a"
   ]
  },
  {
   "cell_type": "code",
   "execution_count": 19,
   "metadata": {},
   "outputs": [],
   "source": [
    "from flask import Flask, request"
   ]
  },
  {
   "cell_type": "code",
   "execution_count": 23,
   "metadata": {},
   "outputs": [],
   "source": [
    "app = Flask(\"Hello\")"
   ]
  },
  {
   "cell_type": "code",
   "execution_count": 24,
   "metadata": {},
   "outputs": [],
   "source": [
    "@app.route(\"/\")\n",
    "def index():\n",
    "    return \"Moj aagyi sb kaam kr rha h\"\n",
    "\n",
    "@app.route(\"/newview/\")\n",
    "def new():\n",
    "    return \"Mja aaya: smjh gye bolo bolo \"\n",
    "\n",
    "@app.route(\"/search/\")\n",
    "def search():\n",
    "    \n",
    "    first_name = request.args.get(\"name\")\n",
    "    last_name = request.args.get(\"last\")\n",
    "    \n",
    "    return \"My name is {} {}\".format(first_name, last_name)"
   ]
  },
  {
   "cell_type": "code",
   "execution_count": 25,
   "metadata": {},
   "outputs": [
    {
     "name": "stdout",
     "output_type": "stream",
     "text": [
      " * Serving Flask app \"Hello\" (lazy loading)\n",
      " * Environment: production\n",
      "   WARNING: Do not use the development server in a production environment.\n",
      "   Use a production WSGI server instead.\n",
      " * Debug mode: off\n"
     ]
    },
    {
     "name": "stderr",
     "output_type": "stream",
     "text": [
      " * Running on http://127.0.0.1:5000/ (Press CTRL+C to quit)\n",
      "127.0.0.1 - - [12/Jul/2020 12:49:59] \"GET /search/?first_name=Rahul&last_name=Janghu HTTP/1.1\" 200 -\n",
      "127.0.0.1 - - [12/Jul/2020 12:51:14] \"GET /search/?name=Rahul&last=Janghu HTTP/1.1\" 200 -\n"
     ]
    }
   ],
   "source": [
    "app.run()"
   ]
  },
  {
   "cell_type": "code",
   "execution_count": null,
   "metadata": {},
   "outputs": [],
   "source": []
  },
  {
   "cell_type": "code",
   "execution_count": 37,
   "metadata": {},
   "outputs": [],
   "source": [
    "app = Flask(\"asd\")"
   ]
  },
  {
   "cell_type": "code",
   "execution_count": 38,
   "metadata": {},
   "outputs": [],
   "source": [
    "@app.route(\"/\")\n",
    "def index():\n",
    "    return \"Moj aagyi sb kaam kr rha h\"\n",
    "\n",
    "@app.route(\"/newview/\")\n",
    "def new():\n",
    "    return \"Mja aaya: smjh gye bolo bolo \"\n",
    "\n",
    "@app.route(\"/search\")\n",
    "def search():\n",
    "    \n",
    "    original_name = request.args.get(\"q\")\n",
    "    gender = request.args.get(\"r\")\n",
    "    nick_name = request.args.get(\"s\")\n",
    "    \n",
    "    return \"My baby's name is {} and i call {} {}\".format(original_name, gender, nick_name)"
   ]
  },
  {
   "cell_type": "code",
   "execution_count": 39,
   "metadata": {},
   "outputs": [
    {
     "name": "stdout",
     "output_type": "stream",
     "text": [
      " * Serving Flask app \"asd\" (lazy loading)\n",
      " * Environment: production\n",
      "   WARNING: Do not use the development server in a production environment.\n",
      "   Use a production WSGI server instead.\n",
      " * Debug mode: off\n"
     ]
    },
    {
     "name": "stderr",
     "output_type": "stream",
     "text": [
      " * Running on http://127.0.0.1:8000/ (Press CTRL+C to quit)\n",
      "127.0.0.1 - - [12/Jul/2020 13:09:32] \"GET /search?q=Rahul&r=him&s=janghu HTTP/1.1\" 200 -\n",
      "127.0.0.1 - - [12/Jul/2020 13:09:42] \"GET /search?q=Rahul HTTP/1.1\" 200 -\n"
     ]
    }
   ],
   "source": [
    "app.run(port=8000)"
   ]
  },
  {
   "cell_type": "code",
   "execution_count": null,
   "metadata": {},
   "outputs": [],
   "source": []
  },
  {
   "cell_type": "code",
   "execution_count": null,
   "metadata": {},
   "outputs": [],
   "source": []
  },
  {
   "cell_type": "code",
   "execution_count": null,
   "metadata": {},
   "outputs": [],
   "source": []
  },
  {
   "cell_type": "code",
   "execution_count": null,
   "metadata": {},
   "outputs": [],
   "source": []
  },
  {
   "cell_type": "code",
   "execution_count": 68,
   "metadata": {},
   "outputs": [],
   "source": [
    "from datetime import datetime"
   ]
  },
  {
   "cell_type": "code",
   "execution_count": 57,
   "metadata": {},
   "outputs": [],
   "source": [
    "app = Flask(\"counter\")"
   ]
  },
  {
   "cell_type": "code",
   "execution_count": 58,
   "metadata": {},
   "outputs": [],
   "source": [
    "count = 0\n",
    "@app.route(\"/\")\n",
    "def index():\n",
    "    return \"Yes this is working\"\n",
    "    \n",
    "@app.route(\"/counter\")\n",
    "def counter():\n",
    "    global count\n",
    "    count += 1\n",
    "    return \"This is {} time\".format(count) + \" time is {}\".format(datetime.now())"
   ]
  },
  {
   "cell_type": "code",
   "execution_count": 59,
   "metadata": {},
   "outputs": [
    {
     "name": "stdout",
     "output_type": "stream",
     "text": [
      " * Serving Flask app \"counter\" (lazy loading)\n",
      " * Environment: production\n",
      "   WARNING: Do not use the development server in a production environment.\n",
      "   Use a production WSGI server instead.\n",
      " * Debug mode: off\n"
     ]
    },
    {
     "name": "stderr",
     "output_type": "stream",
     "text": [
      " * Running on http://127.0.0.1:5000/ (Press CTRL+C to quit)\n",
      "127.0.0.1 - - [12/Jul/2020 13:34:33] \"GET / HTTP/1.1\" 200 -\n",
      "127.0.0.1 - - [12/Jul/2020 13:34:34] \"GET / HTTP/1.1\" 200 -\n",
      "127.0.0.1 - - [12/Jul/2020 13:34:35] \"GET / HTTP/1.1\" 200 -\n",
      "127.0.0.1 - - [12/Jul/2020 13:34:35] \"GET / HTTP/1.1\" 200 -\n",
      "127.0.0.1 - - [12/Jul/2020 13:34:36] \"GET / HTTP/1.1\" 200 -\n",
      "127.0.0.1 - - [12/Jul/2020 13:34:44] \"GET /counter HTTP/1.1\" 200 -\n",
      "127.0.0.1 - - [12/Jul/2020 13:34:48] \"GET /counter HTTP/1.1\" 200 -\n",
      "127.0.0.1 - - [12/Jul/2020 13:34:50] \"GET /counter HTTP/1.1\" 200 -\n",
      "127.0.0.1 - - [12/Jul/2020 13:34:51] \"GET /counter HTTP/1.1\" 200 -\n",
      "127.0.0.1 - - [12/Jul/2020 13:34:51] \"GET /counter HTTP/1.1\" 200 -\n",
      "127.0.0.1 - - [12/Jul/2020 13:34:51] \"GET /counter HTTP/1.1\" 200 -\n",
      "127.0.0.1 - - [12/Jul/2020 13:34:52] \"GET /counter HTTP/1.1\" 200 -\n",
      "127.0.0.1 - - [12/Jul/2020 13:34:52] \"GET /counter HTTP/1.1\" 200 -\n",
      "127.0.0.1 - - [12/Jul/2020 13:34:52] \"GET /counter HTTP/1.1\" 200 -\n",
      "127.0.0.1 - - [12/Jul/2020 13:34:53] \"GET /counter HTTP/1.1\" 200 -\n",
      "127.0.0.1 - - [12/Jul/2020 13:34:53] \"GET /counter HTTP/1.1\" 200 -\n",
      "127.0.0.1 - - [12/Jul/2020 13:34:53] \"GET /counter HTTP/1.1\" 200 -\n",
      "127.0.0.1 - - [12/Jul/2020 13:34:53] \"GET /counter HTTP/1.1\" 200 -\n",
      "127.0.0.1 - - [12/Jul/2020 13:34:53] \"GET /counter HTTP/1.1\" 200 -\n",
      "127.0.0.1 - - [12/Jul/2020 13:34:54] \"GET /counter HTTP/1.1\" 200 -\n",
      "127.0.0.1 - - [12/Jul/2020 13:34:54] \"GET /counter HTTP/1.1\" 200 -\n"
     ]
    }
   ],
   "source": [
    "app.run()"
   ]
  },
  {
   "cell_type": "code",
   "execution_count": 94,
   "metadata": {},
   "outputs": [],
   "source": [
    "now = datetime.now()"
   ]
  },
  {
   "cell_type": "code",
   "execution_count": 101,
   "metadata": {},
   "outputs": [
    {
     "name": "stdout",
     "output_type": "stream",
     "text": [
      "12-07-2020 01:55:43\n"
     ]
    }
   ],
   "source": [
    "print(now.strftime(\"%d-%m-%Y %I:%M:%S\"))"
   ]
  },
  {
   "cell_type": "code",
   "execution_count": null,
   "metadata": {},
   "outputs": [],
   "source": []
  }
 ],
 "metadata": {
  "kernelspec": {
   "display_name": "Python 3",
   "language": "python",
   "name": "python3"
  },
  "language_info": {
   "codemirror_mode": {
    "name": "ipython",
    "version": 3
   },
   "file_extension": ".py",
   "mimetype": "text/x-python",
   "name": "python",
   "nbconvert_exporter": "python",
   "pygments_lexer": "ipython3",
   "version": "3.7.1"
  }
 },
 "nbformat": 4,
 "nbformat_minor": 2
}
