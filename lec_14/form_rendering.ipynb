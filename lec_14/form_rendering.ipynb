{
 "cells": [
  {
   "cell_type": "code",
   "execution_count": 1,
   "metadata": {},
   "outputs": [],
   "source": [
    "from flask import Flask, request, render_template"
   ]
  },
  {
   "cell_type": "code",
   "execution_count": 2,
   "metadata": {},
   "outputs": [],
   "source": [
    "app = Flask(\"Hello\")"
   ]
  },
  {
   "cell_type": "code",
   "execution_count": null,
   "metadata": {},
   "outputs": [],
   "source": [
    "@app.route(\"/\")\n",
    "def index():\n",
    "    return \"Moj aagyi sb kaam kr rha h\"\n",
    "\n",
    "@app.route(\"/newview/\")\n",
    "def new():\n",
    "    return \"Mja aaya: smjh gye bolo bolo \"\n",
    "\n",
    "@app.route(\"/form/\")\n",
    "def form():\n",
    "    return render_template\n",
    "\n",
    "@app.route(\"/search/\")\n",
    "def search():\n",
    "    \n",
    "    first_name = request.args.get(\"name\")\n",
    "    last_name = request.args.get(\"last\")\n",
    "    \n",
    "    return \"My name is {} {}\".format(first_name, last_name)"
   ]
  }
 ],
 "metadata": {
  "kernelspec": {
   "display_name": "Python 3",
   "language": "python",
   "name": "python3"
  },
  "language_info": {
   "codemirror_mode": {
    "name": "ipython",
    "version": 3
   },
   "file_extension": ".py",
   "mimetype": "text/x-python",
   "name": "python",
   "nbconvert_exporter": "python",
   "pygments_lexer": "ipython3",
   "version": "3.7.1"
  }
 },
 "nbformat": 4,
 "nbformat_minor": 2
}
